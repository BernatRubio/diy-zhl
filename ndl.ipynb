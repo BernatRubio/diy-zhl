{
 "cells": [
  {
   "cell_type": "markdown",
   "metadata": {},
   "source": [
    "# No-Stop Time aka NDL"
   ]
  },
  {
   "cell_type": "markdown",
   "metadata": {},
   "source": [
    "From **Deco for Divers**:\n",
    "\n",
    "\\begin{align}\n",
    "P_{no-stop} = (M_{0} - P_{alv0} - R (t_{asc} - 1/k)) e^{k * t_{asc}} + P_{alv0} - R/k\n",
    "\\end{align}\n",
    "\n",
    "where\n",
    "\n",
    "  * $ M_{0} $ : M-value at sea level (bar)\n",
    "  * $ t_{asc} $ : time needed for ascent, depth/speed (min)\n",
    "  * $ P_{no_stop} $ : partial pressure at which to start the ascent (bar)\n",
    "  * $ P_{alv0} $ : alveolar partial pressure\n",
    "  * $ d $ : depth (m)\n",
    "  * $ k $ : ln(2)/tissue half-time\n",
    "  * $ R $ : is the rate of change in inert gas paressure, $ \\Delta P $ times fraction of inert gas (bar/min)\n",
    "\n",
    "This gives no-stop pressure $ P_{no-stop} $ at a given depth (through $ P_{alv0} $) but not the time $ t $ when you're going to reach it.\n",
    "\n",
    "From Baker's **No-Stop Time**:\n",
    "\n",
    "\\begin{align}\n",
    "t = (-1/k) * ln( (P_{alv0} - M_{0})/(P_{alv0} - P_{tc}) )\n",
    "\\end{align}\n",
    "\n",
    "-- as above but also accounts for\n",
    "\n",
    "  * $ P_{tc} $ : current dissolved gas pressure in tissue compartment\n",
    "  \n",
    "The problem with Baker's version is it has to avoid division by zero and a logarithm of negative number, or of number greater than 1. So it only works **iff** $ P_{alv0} > M_{0} > P_{tc} $ \n",
    "\n",
    "**So** you have to exclude tissue compartments whose $ M_{0} $ is less than current $ P_{alv0} $"
   ]
  },
  {
   "cell_type": "code",
   "execution_count": null,
   "metadata": {},
   "outputs": [],
   "source": []
  }
 ],
 "metadata": {
  "kernelspec": {
   "display_name": "Python 3",
   "language": "python",
   "name": "python3"
  },
  "language_info": {
   "codemirror_mode": {
    "name": "ipython",
    "version": 3
   },
   "file_extension": ".py",
   "mimetype": "text/x-python",
   "name": "python",
   "nbconvert_exporter": "python",
   "pygments_lexer": "ipython3",
   "version": "3.7.3"
  }
 },
 "nbformat": 4,
 "nbformat_minor": 2
}
