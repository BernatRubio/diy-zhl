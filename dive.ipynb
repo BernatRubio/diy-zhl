{
 "cells": [
  {
   "cell_type": "markdown",
   "metadata": {},
   "source": [
    "# Dive\n",
    "\n",
    "wrapped in a python class"
   ]
  },
  {
   "cell_type": "markdown",
   "metadata": {},
   "source": [
    "## Implementation\n",
    "\n",
    " - Dive profile is usually shown as a series of depth and time, in `MM:SS` format, points.\n",
    "   - Need to convert the latter into decimal minutes,\n",
    "   - and convert it to time and current depth.\n",
    "\n",
    " - constructor: initialize the model to ZH-L16C w/ 5-minute compartment,\n",
    "   - diving air,\n",
    "   - at sea level,\n",
    "   - using $ RQ = 0.9 $\n",
    "   - and fixed gradient factor 0.85\n",
    " \n",
    " - `segment()` takes the new depth and time and updates gas loadings.\n",
    " \n",
    " This also keeps track of the ceiling together with $ P_t $\n"
   ]
  },
  {
   "cell_type": "code",
   "execution_count": 2,
   "metadata": {},
   "outputs": [],
   "source": [
    "import pprint\n",
    "import re\n",
    "\n",
    "import diyzhl\n",
    "\n",
    "#\n",
    "#\n",
    "class dive( object ) :\n",
    "    \n",
    "    # ctor\n",
    "    #\n",
    "    def __init__( self, verbose = False ) :\n",
    "\n",
    "        self._verbose = bool( verbose )\n",
    "        self._timepat = re.compile( r\"(?:(\\d{1,2}):)?(\\d{1,2}):(\\d{1,2})\" )\n",
    "        \n",
    "# air, sea level, USN RQ. S is surface pressure (const), P is current pressure (var)\n",
    "        self._T = 0\n",
    "        self._S = 1.0\n",
    "        self._P = self._S\n",
    "        self._Q = 0.79\n",
    "        self._RQ = 0.9\n",
    "        self._GFHi = 0.85\n",
    "        self._TCs = []\n",
    "\n",
    "# starting Pt (same for all TCs)\n",
    "        sp = diyzhl.palv( Pamb = self._P, Q = self._Q, RQ = self._RQ )\n",
    "\n",
    "# use ZH-L16Cb (skip over 4-minute TC)\n",
    "        for tc in diyzhl.ZHL16N.keys() :\n",
    "            if tc == 1 : continue\n",
    "            self._TCs.append( { \n",
    "                \"t\" : diyzhl.ZHL16N[tc][\"t\"], \n",
    "                \"a\" : diyzhl.ZHL16N[tc][\"a\"][\"C\"],\n",
    "                \"b\" : diyzhl.ZHL16N[tc][\"b\"],\n",
    "                \"P\" : sp\n",
    "            } )\n",
    "\n",
    "# init. ceiling\n",
    "        for i in range( len( self._TCs ) ) :\n",
    "            self._TCs[i][\"C\"] = diyzhl.buhlmann( Pn = self._TCs[i][\"P\"],\n",
    "                                         an = self._TCs[i][\"a\"],\n",
    "                                         bn = self._TCs[i][\"b\"],\n",
    "                                         gf = self._GFHi )\n",
    "            \n",
    "        if self._verbose :\n",
    "            pprint.pprint( self._TCs )\n",
    "            \n",
    "    # helpers for plotting\n",
    "    # (could actually do this in a more \"pythonic\" way but this is more obvious)\n",
    "    #\n",
    "    @property\n",
    "    def compartments( self ) :\n",
    "        rc = []\n",
    "        for i in range( len( self._TCs ) ) :\n",
    "            rc.append( self._TCs[i][\"t\"] )\n",
    "        return rc\n",
    "    \n",
    "    @property\n",
    "    def loadings( self ) :\n",
    "        rc = []\n",
    "        for i in range( len( self._TCs ) ) :\n",
    "            rc.append( self._TCs[i][\"P\"] )\n",
    "        return rc\n",
    "\n",
    "    # helper function: takes human-readable time string like \"1:30\" and returns minutes: 1.5\n",
    "    #\n",
    "    def _time( self, t = \"0:0\" ) :\n",
    "        if t is None : return 0\n",
    "        m = self._timepat.search( str( t ).strip() )\n",
    "        if not m : raise Exception( \"Invalid time string %s\" % (t,) )\n",
    "        rc = 0.0\n",
    "        if m.group( 1 ) is not None :\n",
    "            rc = float( m.group( 1 ) ) * 60.0\n",
    "        rc += float( m.group( 2 ) )\n",
    "        rc += float( m.group( 3 ) ) / 60.0\n",
    "        return round( rc, 1 )\n",
    "\n",
    "    # newdepth is new depth in 0.1 bar\n",
    "    # timestr is time as [hours:]minutes:seconds string. *it is the total elapsed* time\n",
    "    #\n",
    "    def segment( self, newdepth = 0.0, newtimestr = \"1:0\" ) :\n",
    "        assert float( newdepth ) >= 0.0\n",
    "        if float( newdepth ) == 0.0 :\n",
    "            newP = self._P\n",
    "        else :\n",
    "            newP = round( self._S + float( newdepth ) / 10, 1 )\n",
    "        t = self._time( newtimestr ) - self._T\n",
    "    \n",
    "        for i in range( len( self._TCs ) ) :\n",
    "            p = diyzhl.schreiner( Pi = self._TCs[i][\"P\"], \n",
    "                          Palv = diyzhl.palv( Pamb = self._P, Q = self._Q, RQ = self._RQ ), \n",
    "                          t = t, \n",
    "                          R = diyzhl.arr( d0 = self._P, dt = newP, t = t, Q = self._Q ),\n",
    "                          k = diyzhl.kay( Th = self._TCs[i][\"t\"] ) )\n",
    "            self._TCs[i][\"P\"] = p\n",
    "            self._TCs[i][\"C\"] = diyzhl.buhlmann( Pn = self._TCs[i][\"P\"],\n",
    "                                         an = self._TCs[i][\"a\"],\n",
    "                                         bn = self._TCs[i][\"b\"],\n",
    "                                         gf = self._GFHi )\n",
    "\n",
    "        self._P = newP\n",
    "        self._T += t\n",
    "    \n",
    "        if self._verbose :\n",
    "            sys.stdout.write( \"* At time %f, P %f:\\n\" % (self._T, self._P,) )\n",
    "            pprint.pprint( self._TCs )\n"
   ]
  },
  {
   "cell_type": "markdown",
   "metadata": {},
   "source": [
    "## Animate\n",
    "\n",
    "The profile is from a real dive, simplified. \n",
    "\n",
    "(TODO: change bar colour when TC has a ceiling)"
   ]
  },
  {
   "cell_type": "code",
   "execution_count": 3,
   "metadata": {},
   "outputs": [
    {
     "data": {
      "image/png": "[encoded data removed]",
      "text/plain": [
       "<Figure size 432x288 with 1 Axes>"
      ]
     },
     "metadata": {
      "needs_background": "light"
     },
     "output_type": "display_data"
    },
    {
     "data": {
      "text/plain": [
       "<Figure size 432x288 with 0 Axes>"
      ]
     },
     "metadata": {},
     "output_type": "display_data"
    },
    {
     "data": {
      "text/plain": [
       "<Figure size 432x288 with 0 Axes>"
      ]
     },
     "metadata": {},
     "output_type": "display_data"
    }
   ],
   "source": [
    "%pylab inline\n",
    "\n",
    "import matplotlib.pyplot as plt\n",
    "import numpy as np\n",
    "from IPython import display\n",
    "\n",
    "d = dive( verbose = False )\n",
    "idx = np.arange( len( d.compartments ) )\n",
    "plt.xticks( idx, d.compartments, rotation = 30 )\n",
    "       \n",
    "\n",
    "PROFILE = [(24,\"1:40\"),(30,\"6:10\"),(29,\"10:20\"),(23,\"16:20\"),(15,\"21:30\"),(10,\"25:30\"),(3,\"40:0\")]\n",
    "\n",
    "for i in PROFILE : \n",
    "    display.clear_output( wait = True )\n",
    "    d.segment( newdepth = i[0], newtimestr = i[1] )\n",
    "    plt.ylim( 0, 3.0 )\n",
    "    plt.bar( idx, d.loadings )\n",
    "    plt.show()\n",
    "    display.display( plt.gcf() )\n",
    "    time.sleep( 1.5 )\n",
    "\n",
    "\n"
   ]
  },
  {
   "cell_type": "code",
   "execution_count": null,
   "metadata": {},
   "outputs": [],
   "source": []
  }
 ],
 "metadata": {
  "kernelspec": {
   "display_name": "Python 3",
   "language": "python",
   "name": "python3"
  },
  "language_info": {
   "codemirror_mode": {
    "name": "ipython",
    "version": 3
   },
   "file_extension": ".py",
   "mimetype": "text/x-python",
   "name": "python",
   "nbconvert_exporter": "python",
   "pygments_lexer": "ipython3",
   "version": "3.6.7"
  }
 },
 "nbformat": 4,
 "nbformat_minor": 2
}
